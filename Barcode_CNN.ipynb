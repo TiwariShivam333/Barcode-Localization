{
  "nbformat": 4,
  "nbformat_minor": 0,
  "metadata": {
    "colab": {
      "name": "Barcode_CNN.ipynb",
      "version": "0.3.2",
      "provenance": [],
      "collapsed_sections": []
    },
    "language_info": {
      "codemirror_mode": {
        "name": "ipython",
        "version": 2
      },
      "file_extension": ".py",
      "mimetype": "text/x-python",
      "name": "python",
      "nbconvert_exporter": "python",
      "pygments_lexer": "ipython2",
      "version": "2.7.15rc1"
    },
    "kernelspec": {
      "display_name": "Python 3",
      "language": "python",
      "name": "python3"
    }
  },
  "cells": [
    {
      "metadata": {
        "id": "zYf3D7FmMfNC",
        "colab_type": "code",
        "outputId": "dc336402-d92e-49cd-b4f4-5f8001a5fff5",
        "colab": {
          "base_uri": "https://localhost:8080/",
          "height": 1925
        }
      },
      "cell_type": "code",
      "source": [
        "%matplotlib inline\n",
        "!unzip data.zip"
      ],
      "execution_count": 0,
      "outputs": [
        {
          "output_type": "stream",
          "text": [
            "Archive:  data.zip\n",
            "   creating: data/\n",
            "   creating: data/train/\n",
            "   creating: data/train/0/\n",
            "  inflating: data/train/0/barcode610.jpg  \n",
            "  inflating: data/train/0/barcode613.jpg  \n",
            "  inflating: data/train/0/barcode616.jpg  \n",
            "  inflating: data/train/0/barcode617.jpg  \n",
            "  inflating: data/train/0/barcode64.jpg  \n",
            "  inflating: data/train/0/barcode65.jpg  \n",
            "  inflating: data/train/0/barcode66.jpg  \n",
            "  inflating: data/train/0/barcode67.jpg  \n",
            "  inflating: data/train/0/barcode68.jpg  \n",
            "  inflating: data/train/0/barcode69.jpg  \n",
            "  inflating: data/train/0/barcode74.jpg  \n",
            "  inflating: data/train/0/barcode75.jpg  \n",
            "  inflating: data/train/0/barcode76.jpg  \n",
            "  inflating: data/train/0/barcode77.jpg  \n",
            "  inflating: data/train/0/barcode78.jpg  \n",
            "  inflating: data/train/0/barcode79.jpg  \n",
            "  inflating: data/train/0/img1       \n",
            "  inflating: data/train/0/barcode_nue87.jpg  \n",
            "  inflating: data/train/0/barcode_nue89.jpg  \n",
            "  inflating: data/train/0/barcode_nue90.jpg  \n",
            "  inflating: data/train/0/barcode_nue93.jpg  \n",
            "  inflating: data/train/0/barcode_nue98.jpg  \n",
            "  inflating: data/train/0/barcode_nue_984.jpg  \n",
            "  inflating: data/train/0/barcode_nue13.jpg  \n",
            "  inflating: data/train/0/barcode_nue14.jpg  \n",
            "  inflating: data/train/0/barcode_nue15.jpg  \n",
            "  inflating: data/train/0/barcode_nue16.jpg  \n",
            "  inflating: data/train/0/barcode_nue17.jpg  \n",
            "  inflating: data/train/0/barcode_nue18.jpg  \n",
            "  inflating: data/train/0/barcode_nue19.jpg  \n",
            "  inflating: data/train/0/barcode_nue2.jpg  \n",
            "  inflating: data/train/0/barcode_nue20.jpg  \n",
            "  inflating: data/train/0/barcode_nue58.jpg  \n",
            "  inflating: data/train/0/barcode_nue59.jpg  \n",
            "  inflating: data/train/0/barcode_nue60.jpg  \n",
            "  inflating: data/train/0/barcode_nue63.jpg  \n",
            "  inflating: data/train/0/barcode_nue65.jpg  \n",
            "  inflating: data/train/0/barcode_nue66.jpg  \n",
            "  inflating: data/train/0/barcode_nue69.jpg  \n",
            "  inflating: data/train/0/barcode_nue70.jpg  \n",
            "  inflating: data/train/0/barcode_nue71.jpg  \n",
            "  inflating: data/train/0/barcode_nue72.jpg  \n",
            "  inflating: data/train/0/barcode_nue73.jpg  \n",
            "  inflating: data/train/0/barcode_nue75.jpg  \n",
            "  inflating: data/train/0/barcode_nue77.jpg  \n",
            "  inflating: data/train/0/barcode_nue78.jpg  \n",
            "  inflating: data/train/0/barcode_nue79.jpg  \n",
            "  inflating: data/train/0/barcode_nue81.jpg  \n",
            "  inflating: data/train/0/barcode_nue84.jpg  \n",
            "  inflating: data/train/0/barcode_nue91.jpg  \n",
            "  inflating: data/train/0/barcode_nue92.jpg  \n",
            "  inflating: data/train/0/barcode_nue95.jpg  \n",
            "  inflating: data/train/0/barcode_nue_986.jpg  \n",
            "  inflating: data/train/0/barcode_nue_987.jpg  \n",
            "   creating: data/train/1/\n",
            "  inflating: data/train/1/barcode611.jpg  \n",
            "  inflating: data/train/1/barcode614.jpg  \n",
            "  inflating: data/train/1/barcode627.jpg  \n",
            "  inflating: data/train/1/barcode629.jpg  \n",
            "  inflating: data/train/1/barcode63.jpg  \n",
            "  inflating: data/train/1/barcode635.jpg  \n",
            "  inflating: data/train/1/barcode636.jpg  \n",
            "  inflating: data/train/1/barcode643.jpg  \n",
            "  inflating: data/train/1/barcode652.jpg  \n",
            "  inflating: data/train/1/barcode675.jpg  \n",
            "  inflating: data/train/1/barcode676.jpg  \n",
            "  inflating: data/train/1/barcode683.jpg  \n",
            "  inflating: data/train/1/barcode699.jpg  \n",
            "  inflating: data/train/1/barcode711.jpg  \n",
            "  inflating: data/train/1/barcode714.jpg  \n",
            "  inflating: data/train/1/barcode721.jpg  \n",
            "  inflating: data/train/1/barcode727.jpg  \n",
            "  inflating: data/train/1/barcode83.jpg  \n",
            "  inflating: data/train/1/barcode84.jpg  \n",
            "  inflating: data/train/1/barcode_nue1.jpg  \n",
            "  inflating: data/train/1/barcode_nue21.jpg  \n",
            "  inflating: data/train/1/barcode_nue53.jpg  \n",
            "  inflating: data/train/1/barcode_nue54.jpg  \n",
            "  inflating: data/train/1/barcode_nue56.jpg  \n",
            "  inflating: data/train/1/barcode_nue57.jpg  \n",
            "  inflating: data/train/1/barcode_nue61.jpg  \n",
            "  inflating: data/train/1/barcode_nue62.jpg  \n",
            "  inflating: data/train/1/barcode_nue64.jpg  \n",
            "  inflating: data/train/1/barcode_nue67.jpg  \n",
            "  inflating: data/train/1/barcode_nue68.jpg  \n",
            "  inflating: data/train/1/barcode_nue238.jpg  \n",
            "  inflating: data/train/1/barcode_nue241.jpg  \n",
            "  inflating: data/train/1/barcode_nue245.jpg  \n",
            "  inflating: data/train/1/barcode_nue249.jpg  \n",
            "  inflating: data/train/1/barcode_nue250.jpg  \n",
            "  inflating: data/train/1/barcode_nue251.jpg  \n",
            "  inflating: data/train/1/barcode_nue252.jpg  \n",
            "  inflating: data/train/1/barcode_nue254.jpg  \n",
            "  inflating: data/train/1/barcode_nue255.jpg  \n",
            "  inflating: data/train/1/barcode_nue256.jpg  \n",
            "  inflating: data/train/1/barcode_nue257.jpg  \n",
            "  inflating: data/train/1/barcode_nue258.jpg  \n",
            "  inflating: data/train/1/barcode_nue259.jpg  \n",
            "  inflating: data/train/1/barcode_nue260.jpg  \n",
            "  inflating: data/train/1/barcode_nue261.jpg  \n",
            "  inflating: data/train/1/barcode_nue262.jpg  \n",
            "  inflating: data/train/1/img1       \n"
          ],
          "name": "stdout"
        }
      ]
    },
    {
      "metadata": {
        "id": "z2SVeLTwMfNM",
        "colab_type": "code",
        "colab": {}
      },
      "cell_type": "code",
      "source": [
        "import os,fnmatch\n",
        "import cv2\n",
        "import numpy as np\n",
        "import pandas as pd\n",
        "import seaborn as sns\n",
        "from keras.callbacks import ModelCheckpoint\n",
        "import matplotlib.image as mpimg\n",
        "import matplotlib.pyplot as plt \n",
        "from keras.models import Sequential\n",
        "from keras.layers import Activation, Dropout, Flatten, Dense, Conv2D, MaxPool2D\n",
        "from keras.preprocessing.image import ImageDataGenerator\n",
        "from keras.preprocessing import image\n",
        "from keras.optimizers import RMSprop\n",
        "from keras.preprocessing.image import ImageDataGenerator\n",
        "from keras.callbacks import ReduceLROnPlateau\n",
        "from keras.layers import Convolution2D, MaxPooling2D, ZeroPadding2D, GlobalAveragePooling2D\n",
        "from keras import optimizers\n",
        "from keras import backend as K\n",
        "from sklearn.metrics import confusion_matrix\n",
        "import itertools\n",
        "from keras.utils import np_utils\n",
        "\n",
        "np.random.seed(2) \n",
        "\n",
        "sns.set(style='white', context='notebook', palette='deep')"
      ],
      "execution_count": 0,
      "outputs": []
    },
    {
      "metadata": {
        "id": "yhBfgm6_MfNT",
        "colab_type": "code",
        "outputId": "5ad6abcb-0d6b-4f3f-e1d4-8c8dbd590939",
        "colab": {
          "base_uri": "https://localhost:8080/",
          "height": 3581
        }
      },
      "cell_type": "code",
      "source": [
        "from imutils import paths\n",
        "\n",
        "relevant_path = \"data/train/\"\n",
        "imagePaths = list(paths.list_images(relevant_path))\n",
        "for imagePath in imagePaths:\n",
        "   label = imagePath.split(os.path.sep)[-2]\n",
        "   print(imagePath)\n",
        "   print(label)"
      ],
      "execution_count": 0,
      "outputs": [
        {
          "output_type": "stream",
          "text": [
            "data/train/1/barcode_nue262.jpg\n",
            "1\n",
            "data/train/1/barcode_nue68.jpg\n",
            "1\n",
            "data/train/1/barcode_nue255.jpg\n",
            "1\n",
            "data/train/1/barcode_nue67.jpg\n",
            "1\n",
            "data/train/1/barcode_nue254.jpg\n",
            "1\n",
            "data/train/1/barcode_nue1.jpg\n",
            "1\n",
            "data/train/1/barcode_nue259.jpg\n",
            "1\n",
            "data/train/1/barcode635.jpg\n",
            "1\n",
            "data/train/1/barcode636.jpg\n",
            "1\n",
            "data/train/1/barcode84.jpg\n",
            "1\n",
            "data/train/1/barcode727.jpg\n",
            "1\n",
            "data/train/1/barcode611.jpg\n",
            "1\n",
            "data/train/1/barcode627.jpg\n",
            "1\n",
            "data/train/1/barcode643.jpg\n",
            "1\n",
            "data/train/1/barcode_nue250.jpg\n",
            "1\n",
            "data/train/1/barcode_nue62.jpg\n",
            "1\n",
            "data/train/1/barcode_nue258.jpg\n",
            "1\n",
            "data/train/1/barcode_nue57.jpg\n",
            "1\n",
            "data/train/1/barcode711.jpg\n",
            "1\n",
            "data/train/1/barcode_nue252.jpg\n",
            "1\n",
            "data/train/1/barcode83.jpg\n",
            "1\n",
            "data/train/1/barcode_nue245.jpg\n",
            "1\n",
            "data/train/1/barcode_nue241.jpg\n",
            "1\n",
            "data/train/1/barcode675.jpg\n",
            "1\n",
            "data/train/1/barcode_nue257.jpg\n",
            "1\n",
            "data/train/1/barcode_nue21.jpg\n",
            "1\n",
            "data/train/1/barcode_nue238.jpg\n",
            "1\n",
            "data/train/1/barcode_nue260.jpg\n",
            "1\n",
            "data/train/1/barcode683.jpg\n",
            "1\n",
            "data/train/1/barcode_nue64.jpg\n",
            "1\n",
            "data/train/1/barcode721.jpg\n",
            "1\n",
            "data/train/1/barcode_nue61.jpg\n",
            "1\n",
            "data/train/1/barcode652.jpg\n",
            "1\n",
            "data/train/1/barcode63.jpg\n",
            "1\n",
            "data/train/1/barcode_nue256.jpg\n",
            "1\n",
            "data/train/1/barcode629.jpg\n",
            "1\n",
            "data/train/1/barcode676.jpg\n",
            "1\n",
            "data/train/1/barcode_nue251.jpg\n",
            "1\n",
            "data/train/1/barcode_nue53.jpg\n",
            "1\n",
            "data/train/1/barcode_nue54.jpg\n",
            "1\n",
            "data/train/1/barcode_nue56.jpg\n",
            "1\n",
            "data/train/1/barcode_nue249.jpg\n",
            "1\n",
            "data/train/1/barcode614.jpg\n",
            "1\n",
            "data/train/1/barcode714.jpg\n",
            "1\n",
            "data/train/1/barcode699.jpg\n",
            "1\n",
            "data/train/1/barcode_nue261.jpg\n",
            "1\n",
            "data/train/0/barcode610.jpg\n",
            "0\n",
            "data/train/0/barcode_nue60.jpg\n",
            "0\n",
            "data/train/0/barcode_nue90.jpg\n",
            "0\n",
            "data/train/0/barcode_nue58.jpg\n",
            "0\n",
            "data/train/0/barcode613.jpg\n",
            "0\n",
            "data/train/0/barcode77.jpg\n",
            "0\n",
            "data/train/0/barcode76.jpg\n",
            "0\n",
            "data/train/0/barcode_nue65.jpg\n",
            "0\n",
            "data/train/0/barcode_nue19.jpg\n",
            "0\n",
            "data/train/0/barcode_nue95.jpg\n",
            "0\n",
            "data/train/0/barcode_nue70.jpg\n",
            "0\n",
            "data/train/0/barcode68.jpg\n",
            "0\n",
            "data/train/0/barcode_nue2.jpg\n",
            "0\n",
            "data/train/0/barcode_nue63.jpg\n",
            "0\n",
            "data/train/0/barcode74.jpg\n",
            "0\n",
            "data/train/0/barcode_nue84.jpg\n",
            "0\n",
            "data/train/0/barcode_nue87.jpg\n",
            "0\n",
            "data/train/0/barcode69.jpg\n",
            "0\n",
            "data/train/0/barcode_nue92.jpg\n",
            "0\n",
            "data/train/0/barcode_nue78.jpg\n",
            "0\n",
            "data/train/0/barcode_nue69.jpg\n",
            "0\n",
            "data/train/0/barcode_nue89.jpg\n",
            "0\n",
            "data/train/0/barcode_nue72.jpg\n",
            "0\n",
            "data/train/0/barcode_nue73.jpg\n",
            "0\n",
            "data/train/0/barcode_nue20.jpg\n",
            "0\n",
            "data/train/0/barcode_nue93.jpg\n",
            "0\n",
            "data/train/0/barcode_nue79.jpg\n",
            "0\n",
            "data/train/0/barcode_nue75.jpg\n",
            "0\n",
            "data/train/0/barcode78.jpg\n",
            "0\n",
            "data/train/0/barcode_nue66.jpg\n",
            "0\n",
            "data/train/0/barcode_nue_984.jpg\n",
            "0\n",
            "data/train/0/barcode65.jpg\n",
            "0\n",
            "data/train/0/barcode_nue_986.jpg\n",
            "0\n",
            "data/train/0/barcode_nue18.jpg\n",
            "0\n",
            "data/train/0/barcode616.jpg\n",
            "0\n",
            "data/train/0/barcode_nue14.jpg\n",
            "0\n",
            "data/train/0/barcode_nue81.jpg\n",
            "0\n",
            "data/train/0/barcode75.jpg\n",
            "0\n",
            "data/train/0/barcode_nue98.jpg\n",
            "0\n",
            "data/train/0/barcode_nue16.jpg\n",
            "0\n",
            "data/train/0/barcode79.jpg\n",
            "0\n",
            "data/train/0/barcode67.jpg\n",
            "0\n",
            "data/train/0/barcode_nue17.jpg\n",
            "0\n",
            "data/train/0/barcode_nue15.jpg\n",
            "0\n",
            "data/train/0/barcode617.jpg\n",
            "0\n",
            "data/train/0/barcode64.jpg\n",
            "0\n",
            "data/train/0/barcode_nue71.jpg\n",
            "0\n",
            "data/train/0/barcode_nue59.jpg\n",
            "0\n",
            "data/train/0/barcode_nue77.jpg\n",
            "0\n",
            "data/train/0/barcode66.jpg\n",
            "0\n",
            "data/train/0/barcode_nue91.jpg\n",
            "0\n",
            "data/train/0/barcode_nue_987.jpg\n",
            "0\n",
            "data/train/0/barcode_nue13.jpg\n",
            "0\n"
          ],
          "name": "stdout"
        }
      ]
    },
    {
      "metadata": {
        "id": "EV1JhbV0MfNb",
        "colab_type": "code",
        "outputId": "1fac57a1-09c7-4f49-bd11-da1c7eacce52",
        "colab": {
          "base_uri": "https://localhost:8080/",
          "height": 107
        }
      },
      "cell_type": "code",
      "source": [
        "import random\n",
        "from keras.preprocessing.image import ImageDataGenerator, array_to_img, img_to_array, load_img\n",
        "\n",
        "# Leer archivos para preprocesar \n",
        "relevant_path = \"data/train/\"\n",
        "pattern = \"*.jpg\"  \n",
        "img_width=224\n",
        "img_height=224\n",
        "\n",
        "nb_classes = 2\n",
        "\n",
        "img_channels = 1\n",
        "\n",
        "print('Formato imagenes: ', K.image_data_format())\n",
        "# Formato imagenes:  channels_last\n",
        " \n",
        "# initialize the data and labels\n",
        "print(\"[INFO] loading images...\")\n",
        "data = []\n",
        "labels = []\n",
        "\n",
        "# grab the image paths and randomly shuffle them\n",
        "imagePaths = sorted(list(paths.list_images(relevant_path)))\n",
        "random.seed(42)\n",
        "random.shuffle(imagePaths)\n",
        "\n",
        "# load the image, pre-process it, and store it in the data list\n",
        "for imagePath in imagePaths:\n",
        "    #fpaths.append(relevant_path + w)\n",
        "    #if w not in images:\n",
        "    #    if fnmatch.fnmatch(imagePath, pattern):\n",
        "    image = cv2.imread(imagePath, cv2.IMREAD_GRAYSCALE) \n",
        "    image = cv2.resize(image, (img_width, img_height), img_channels)\n",
        "    image = img_to_array(image)\n",
        "    data.append(image)\n",
        "        \n",
        "    # extract the class label from the image path and update the\n",
        "    # labels list\n",
        "    label = imagePath.split(os.path.sep)[-2]\n",
        "    label = 1 if (label.endswith(\"1\")) else 0\n",
        "    labels.append(label)\n",
        "    \n",
        "# scale the raw pixel intensities to the range [0, 1]\n",
        "data = np.array(data, dtype=\"float\") / 255.0\n",
        "labels = np.array(labels)        \n",
        "        \n",
        "print('Cantidad imagenes: ', len(data))  \n",
        "print('x_train shape:', data.shape)\n",
        "print(data.shape[0], 'train samples')"
      ],
      "execution_count": 0,
      "outputs": [
        {
          "output_type": "stream",
          "text": [
            "Formato imagenes:  channels_last\n",
            "[INFO] loading images...\n",
            "Cantidad imagenes:  99\n",
            "x_train shape: (99, 224, 224, 1)\n",
            "99 train samples\n"
          ],
          "name": "stdout"
        }
      ]
    },
    {
      "metadata": {
        "id": "MF7HrOixMfNo",
        "colab_type": "code",
        "outputId": "f46e87c1-9894-4ea3-9849-bfc0cc2204bd",
        "colab": {
          "base_uri": "https://localhost:8080/",
          "height": 89
        }
      },
      "cell_type": "code",
      "source": [
        "from keras import utils\n",
        "from sklearn.model_selection import train_test_split\n",
        "\n",
        "# partition the data into training and testing splits using 75% of\n",
        "# the data for training and the remaining 25% for testing\n",
        "(x_train, x_test, y_train, y_test) = train_test_split(data, labels, test_size=0.25, random_state=42)\n",
        "\n",
        "x_train = x_train.astype('float32')\n",
        "x_test = x_test.astype('float32')\n",
        "x_train /= 255\n",
        "x_test /= 255\n",
        "\n",
        "# one-hot encode the labels\n",
        "num_classes = len(np.unique(y_train))\n",
        "y_train = utils.to_categorical(y_train, num_classes)\n",
        "y_test= utils.to_categorical(y_test, num_classes)\n",
        "\n",
        "print(x_train.shape[0], 'train samples')\n",
        "print('x_train shape:', x_train.shape)\n",
        "print(x_test.shape[0], 'test samples')\n",
        "print('x_test shape:', x_test.shape)"
      ],
      "execution_count": 0,
      "outputs": [
        {
          "output_type": "stream",
          "text": [
            "74 train samples\n",
            "x_train shape: (74, 224, 224, 1)\n",
            "25 test samples\n",
            "x_test shape: (25, 224, 224, 1)\n"
          ],
          "name": "stdout"
        }
      ]
    },
    {
      "metadata": {
        "id": "JZRJi7ULMfNx",
        "colab_type": "code",
        "outputId": "2145f65a-a711-4ba8-c5cb-f12c3cc477a2",
        "colab": {
          "base_uri": "https://localhost:8080/",
          "height": 350
        }
      },
      "cell_type": "code",
      "source": [
        "g = plt.imshow(x_train[1][:,:,0])"
      ],
      "execution_count": 0,
      "outputs": [
        {
          "output_type": "display_data",
          "data": {
            "image/png": "[encoded data removed]",
            "text/plain": [
              "<Figure size 576x396 with 1 Axes>"
            ]
          },
          "metadata": {
            "tags": []
          }
        }
      ]
    },
    {
      "metadata": {
        "id": "j0_k7DCkMfN7",
        "colab_type": "code",
        "colab": {}
      },
      "cell_type": "code",
      "source": [
        "## DEFINE MODEL CNN "
      ],
      "execution_count": 0,
      "outputs": []
    },
    {
      "metadata": {
        "id": "vYd5qRRQMfOD",
        "colab_type": "code",
        "colab": {}
      },
      "cell_type": "code",
      "source": [
        "# import the necessary packages\n",
        "from keras.models import Sequential\n",
        "from keras.layers.convolutional import Conv2D\n",
        "from keras.layers.convolutional import MaxPooling2D\n",
        "from keras.layers import GlobalAveragePooling2D, BatchNormalization\n",
        "from keras.layers.core import Activation, Dropout\n",
        "from keras.layers.core import Flatten\n",
        "from keras.layers.core import Dense\n",
        "from keras import backend as K\n",
        "\n",
        "class ModelImage:\n",
        "    @staticmethod\n",
        "    def build_cnn1(width, height, depth, classes):\n",
        "        # initialize the model\n",
        "        model_cnn1 = Sequential()\n",
        "        inputShape = (height, width, depth)\n",
        "\n",
        "        # if we are using \"channels first\", update the input shape\n",
        "        if K.image_data_format() == \"channels_first\":\n",
        "            inputShape = (height, width, depth)\n",
        "            \n",
        "        model_cnn1 = Sequential()\n",
        "        model_cnn1.add(Conv2D(32, (3, 3), padding='same', activation='relu', input_shape=inputShape))\n",
        "        model_cnn1.add(Activation('relu'))\n",
        "        model_cnn1.add(Dropout(0.25))\n",
        "\n",
        "        model_cnn1.add(Conv2D(64, (3, 3), padding='same', activation='relu'))\n",
        "        model_cnn1.add(Activation('relu'))\n",
        "            \n",
        "        model_cnn1.add(Conv2D(128, (3, 3), padding='same', activation='relu'))\n",
        "        model_cnn1.add(Activation('relu'))\n",
        "        model_cnn1.add(Dropout(0.25))\n",
        "        \n",
        "        #model_cnn1.add(Flatten(input_shape=inputShape))\n",
        "        model_cnn1.add(GlobalAveragePooling2D())\n",
        "        model_cnn1.add(Dense(5, activation='relu'))\n",
        "        model_cnn1.add(Dropout(0.5))\n",
        "        model_cnn1.add(Dense(classes, activation='sigmoid'))\n",
        "\n",
        "        return model_cnn1\n",
        "    \n",
        "    def build_cnn2(width, height, depth, classes):\n",
        "        # initialize the model \n",
        "        model_cnn2 = Sequential()\n",
        "        inputShape = (height, width, depth)\n",
        "\n",
        "        # if we are using \"channels first\", update the input shape\n",
        "        if K.image_data_format() == \"channels_first\":\n",
        "            inputShape = (depth, height, width)\n",
        "\n",
        "        model_cnn2.add(Flatten(input_shape=inputShape))\n",
        "        model_cnn2.add(Dense(256, activation='relu'))\n",
        "        model_cnn2.add(Dropout(0.5))\n",
        "        model_cnn2.add(Dense(classes, activation='sigmoid'))\n",
        "    \n",
        "        return model_cnn2    "
      ],
      "execution_count": 0,
      "outputs": []
    },
    {
      "metadata": {
        "id": "ur8RozOpMfON",
        "colab_type": "code",
        "outputId": "2ebe1a03-9760-4bad-c6df-e24b434bc393",
        "colab": {
          "base_uri": "https://localhost:8080/",
          "height": 451
        }
      },
      "cell_type": "code",
      "source": [
        "## CASO 1 SIN AUMENTACION \n",
        "# Define the optimizer\n",
        "optimizer = RMSprop(lr=0.001, rho=0.9, epsilon=1e-08, decay=0.0)\n",
        "\n",
        "# Compile the model\n",
        "print(\"[INFO] compiling model...\")\n",
        "model_cnn1 = ModelImage.build_cnn2(width=img_width, height=img_height, depth=img_channels, classes=num_classes) \n",
        "model_cnn1.compile(loss=\"binary_crossentropy\", optimizer=optimizer, metrics=[\"accuracy\"])\n",
        "\n",
        "print(model_cnn1.summary())"
      ],
      "execution_count": 0,
      "outputs": [
        {
          "output_type": "stream",
          "text": [
            "WARNING:tensorflow:From /usr/local/lib/python3.6/dist-packages/tensorflow/python/framework/op_def_library.py:263: colocate_with (from tensorflow.python.framework.ops) is deprecated and will be removed in a future version.\n",
            "Instructions for updating:\n",
            "Colocations handled automatically by placer.\n",
            "[INFO] compiling model...\n",
            "WARNING:tensorflow:From /usr/local/lib/python3.6/dist-packages/keras/backend/tensorflow_backend.py:3445: calling dropout (from tensorflow.python.ops.nn_ops) with keep_prob is deprecated and will be removed in a future version.\n",
            "Instructions for updating:\n",
            "Please use `rate` instead of `keep_prob`. Rate should be set to `rate = 1 - keep_prob`.\n",
            "_________________________________________________________________\n",
            "Layer (type)                 Output Shape              Param #   \n",
            "=================================================================\n",
            "flatten_1 (Flatten)          (None, 50176)             0         \n",
            "_________________________________________________________________\n",
            "dense_1 (Dense)              (None, 256)               12845312  \n",
            "_________________________________________________________________\n",
            "dropout_1 (Dropout)          (None, 256)               0         \n",
            "_________________________________________________________________\n",
            "dense_2 (Dense)              (None, 2)                 514       \n",
            "=================================================================\n",
            "Total params: 12,845,826\n",
            "Trainable params: 12,845,826\n",
            "Non-trainable params: 0\n",
            "_________________________________________________________________\n",
            "None\n"
          ],
          "name": "stdout"
        }
      ]
    },
    {
      "metadata": {
        "id": "CDWvTmk3MfOY",
        "colab_type": "code",
        "colab": {}
      },
      "cell_type": "code",
      "source": [
        "# Set a learning rate annealer\n",
        "learning_rate_reduction = ReduceLROnPlateau(monitor='val_acc', patience=3, verbose=1, factor=0.5, min_lr=0.0001)"
      ],
      "execution_count": 0,
      "outputs": []
    },
    {
      "metadata": {
        "id": "MljEvvUHMfOi",
        "colab_type": "code",
        "colab": {}
      },
      "cell_type": "code",
      "source": [
        "epochs = 30\n",
        "batch_size = 36"
      ],
      "execution_count": 0,
      "outputs": []
    },
    {
      "metadata": {
        "id": "QGozxtGrMfOs",
        "colab_type": "code",
        "outputId": "98a4a342-bc3e-4b8c-dd85-5d0ed86acff2",
        "colab": {
          "base_uri": "https://localhost:8080/",
          "height": 2377
        }
      },
      "cell_type": "code",
      "source": [
        "# Without data augmentation \n",
        "checkpointer1 = ModelCheckpoint(filepath='model_cnn1_sin_aug.hdf5', verbose=1, save_best_only=True)\n",
        "#plot_losses1 = PlotLosses(plot_interval=1, evaluate_interval=None, x_val=x_test, y_val_categorical=y_test)\n",
        "\n",
        "model_cnn1.fit(x_train, y_train, batch_size = batch_size, epochs = epochs, validation_data = (x_test, y_test), verbose = 1, callbacks=[learning_rate_reduction,checkpointer1]) "
      ],
      "execution_count": 0,
      "outputs": [
        {
          "output_type": "stream",
          "text": [
            "Train on 74 samples, validate on 25 samples\n",
            "Epoch 1/30\n",
            "74/74 [==============================] - 1s 9ms/step - loss: 0.6308 - acc: 0.6486 - val_loss: 0.6305 - val_acc: 0.8800\n",
            "\n",
            "Epoch 00001: val_loss improved from inf to 0.63049, saving model to model_cnn1_sin_aug.hdf5\n",
            "Epoch 2/30\n",
            "74/74 [==============================] - 0s 7ms/step - loss: 0.6254 - acc: 0.6689 - val_loss: 0.6602 - val_acc: 0.4800\n",
            "\n",
            "Epoch 00002: val_loss did not improve from 0.63049\n",
            "Epoch 3/30\n",
            "74/74 [==============================] - 1s 8ms/step - loss: 0.6653 - acc: 0.5405 - val_loss: 0.6347 - val_acc: 0.7200\n",
            "\n",
            "Epoch 00003: val_loss did not improve from 0.63049\n",
            "Epoch 4/30\n",
            "74/74 [==============================] - 1s 8ms/step - loss: 0.6348 - acc: 0.6689 - val_loss: 0.6261 - val_acc: 0.8200\n",
            "\n",
            "Epoch 00004: ReduceLROnPlateau reducing learning rate to 0.0005000000237487257.\n",
            "\n",
            "Epoch 00004: val_loss improved from 0.63049 to 0.62615, saving model to model_cnn1_sin_aug.hdf5\n",
            "Epoch 5/30\n",
            "74/74 [==============================] - 1s 8ms/step - loss: 0.6215 - acc: 0.6689 - val_loss: 0.6220 - val_acc: 0.8000\n",
            "\n",
            "Epoch 00005: val_loss improved from 0.62615 to 0.62205, saving model to model_cnn1_sin_aug.hdf5\n",
            "Epoch 6/30\n",
            "74/74 [==============================] - 1s 8ms/step - loss: 0.6119 - acc: 0.6959 - val_loss: 0.6209 - val_acc: 0.7400\n",
            "\n",
            "Epoch 00006: val_loss improved from 0.62205 to 0.62091, saving model to model_cnn1_sin_aug.hdf5\n",
            "Epoch 7/30\n",
            "74/74 [==============================] - 1s 8ms/step - loss: 0.5960 - acc: 0.7770 - val_loss: 0.6235 - val_acc: 0.8800\n",
            "\n",
            "Epoch 00007: ReduceLROnPlateau reducing learning rate to 0.0002500000118743628.\n",
            "\n",
            "Epoch 00007: val_loss did not improve from 0.62091\n",
            "Epoch 8/30\n",
            "74/74 [==============================] - 1s 8ms/step - loss: 0.6225 - acc: 0.7297 - val_loss: 0.6179 - val_acc: 0.8400\n",
            "\n",
            "Epoch 00008: val_loss improved from 0.62091 to 0.61794, saving model to model_cnn1_sin_aug.hdf5\n",
            "Epoch 9/30\n",
            "74/74 [==============================] - 1s 8ms/step - loss: 0.6181 - acc: 0.6824 - val_loss: 0.6202 - val_acc: 0.9200\n",
            "\n",
            "Epoch 00009: val_loss did not improve from 0.61794\n",
            "Epoch 10/30\n",
            "74/74 [==============================] - 1s 9ms/step - loss: 0.5896 - acc: 0.7703 - val_loss: 0.6171 - val_acc: 0.8200\n",
            "\n",
            "Epoch 00010: val_loss improved from 0.61794 to 0.61714, saving model to model_cnn1_sin_aug.hdf5\n",
            "Epoch 11/30\n",
            "74/74 [==============================] - 1s 8ms/step - loss: 0.6199 - acc: 0.7162 - val_loss: 0.6184 - val_acc: 0.8800\n",
            "\n",
            "Epoch 00011: val_loss did not improve from 0.61714\n",
            "Epoch 12/30\n",
            "74/74 [==============================] - 1s 8ms/step - loss: 0.5970 - acc: 0.7365 - val_loss: 0.6157 - val_acc: 0.8400\n",
            "\n",
            "Epoch 00012: ReduceLROnPlateau reducing learning rate to 0.0001250000059371814.\n",
            "\n",
            "Epoch 00012: val_loss improved from 0.61714 to 0.61571, saving model to model_cnn1_sin_aug.hdf5\n",
            "Epoch 13/30\n",
            "74/74 [==============================] - 1s 8ms/step - loss: 0.6310 - acc: 0.6689 - val_loss: 0.6151 - val_acc: 0.8200\n",
            "\n",
            "Epoch 00013: val_loss improved from 0.61571 to 0.61512, saving model to model_cnn1_sin_aug.hdf5\n",
            "Epoch 14/30\n",
            "74/74 [==============================] - 1s 8ms/step - loss: 0.6235 - acc: 0.6959 - val_loss: 0.6154 - val_acc: 0.8000\n",
            "\n",
            "Epoch 00014: val_loss did not improve from 0.61512\n",
            "Epoch 15/30\n",
            "74/74 [==============================] - 1s 8ms/step - loss: 0.5924 - acc: 0.7027 - val_loss: 0.6166 - val_acc: 0.7400\n",
            "\n",
            "Epoch 00015: ReduceLROnPlateau reducing learning rate to 0.0001.\n",
            "\n",
            "Epoch 00015: val_loss did not improve from 0.61512\n",
            "Epoch 16/30\n",
            "74/74 [==============================] - 1s 8ms/step - loss: 0.6007 - acc: 0.7432 - val_loss: 0.6158 - val_acc: 0.7400\n",
            "\n",
            "Epoch 00016: val_loss did not improve from 0.61512\n",
            "Epoch 17/30\n",
            "74/74 [==============================] - 1s 7ms/step - loss: 0.5792 - acc: 0.7770 - val_loss: 0.6168 - val_acc: 0.7200\n",
            "\n",
            "Epoch 00017: val_loss did not improve from 0.61512\n",
            "Epoch 18/30\n",
            "74/74 [==============================] - 1s 8ms/step - loss: 0.6225 - acc: 0.7230 - val_loss: 0.6170 - val_acc: 0.7200\n",
            "\n",
            "Epoch 00018: val_loss did not improve from 0.61512\n",
            "Epoch 19/30\n",
            "74/74 [==============================] - 1s 8ms/step - loss: 0.6244 - acc: 0.7095 - val_loss: 0.6160 - val_acc: 0.7400\n",
            "\n",
            "Epoch 00019: val_loss did not improve from 0.61512\n",
            "Epoch 20/30\n",
            "74/74 [==============================] - 1s 8ms/step - loss: 0.5942 - acc: 0.7568 - val_loss: 0.6153 - val_acc: 0.7400\n",
            "\n",
            "Epoch 00020: val_loss did not improve from 0.61512\n",
            "Epoch 21/30\n",
            "74/74 [==============================] - 1s 8ms/step - loss: 0.5929 - acc: 0.7095 - val_loss: 0.6138 - val_acc: 0.8000\n",
            "\n",
            "Epoch 00021: val_loss improved from 0.61512 to 0.61385, saving model to model_cnn1_sin_aug.hdf5\n",
            "Epoch 22/30\n",
            "74/74 [==============================] - 1s 8ms/step - loss: 0.5870 - acc: 0.7568 - val_loss: 0.6131 - val_acc: 0.8200\n",
            "\n",
            "Epoch 00022: val_loss improved from 0.61385 to 0.61311, saving model to model_cnn1_sin_aug.hdf5\n",
            "Epoch 23/30\n",
            "74/74 [==============================] - 1s 8ms/step - loss: 0.6194 - acc: 0.7162 - val_loss: 0.6131 - val_acc: 0.8400\n",
            "\n",
            "Epoch 00023: val_loss did not improve from 0.61311\n",
            "Epoch 24/30\n",
            "74/74 [==============================] - 1s 8ms/step - loss: 0.5937 - acc: 0.7568 - val_loss: 0.6128 - val_acc: 0.8200\n",
            "\n",
            "Epoch 00024: val_loss improved from 0.61311 to 0.61276, saving model to model_cnn1_sin_aug.hdf5\n",
            "Epoch 25/30\n",
            "74/74 [==============================] - 1s 8ms/step - loss: 0.6139 - acc: 0.7095 - val_loss: 0.6129 - val_acc: 0.8200\n",
            "\n",
            "Epoch 00025: val_loss did not improve from 0.61276\n",
            "Epoch 26/30\n",
            "74/74 [==============================] - 1s 8ms/step - loss: 0.5989 - acc: 0.7365 - val_loss: 0.6135 - val_acc: 0.7400\n",
            "\n",
            "Epoch 00026: val_loss did not improve from 0.61276\n",
            "Epoch 27/30\n",
            "74/74 [==============================] - 1s 8ms/step - loss: 0.5940 - acc: 0.7432 - val_loss: 0.6132 - val_acc: 0.7400\n",
            "\n",
            "Epoch 00027: val_loss did not improve from 0.61276\n",
            "Epoch 28/30\n",
            "74/74 [==============================] - 1s 8ms/step - loss: 0.6070 - acc: 0.6689 - val_loss: 0.6129 - val_acc: 0.7600\n",
            "\n",
            "Epoch 00028: val_loss did not improve from 0.61276\n",
            "Epoch 29/30\n",
            "74/74 [==============================] - 1s 8ms/step - loss: 0.5931 - acc: 0.7432 - val_loss: 0.6139 - val_acc: 0.7400\n",
            "\n",
            "Epoch 00029: val_loss did not improve from 0.61276\n",
            "Epoch 30/30\n",
            "74/74 [==============================] - 1s 8ms/step - loss: 0.6570 - acc: 0.5743 - val_loss: 0.6123 - val_acc: 0.7600\n",
            "\n",
            "Epoch 00030: val_loss improved from 0.61276 to 0.61232, saving model to model_cnn1_sin_aug.hdf5\n"
          ],
          "name": "stdout"
        },
        {
          "output_type": "execute_result",
          "data": {
            "text/plain": [
              "<keras.callbacks.History at 0x7fb1240f36d8>"
            ]
          },
          "metadata": {
            "tags": []
          },
          "execution_count": 21
        }
      ]
    },
    {
      "metadata": {
        "id": "vcNt1Y09MfO5",
        "colab_type": "code",
        "colab": {}
      },
      "cell_type": "code",
      "source": [
        "## CASO 2 \n",
        "# With data augmentation to prevent overfitting \n",
        "datagen = ImageDataGenerator(rescale = 1./255)\n",
        "\n",
        "datagen = ImageDataGenerator(\n",
        "             featurewise_center=False, # set input mean to 0 over the dataset\n",
        "             samplewise_center=False, # set each sample mean to 0\n",
        "             featurewise_std_normalization=False, # divide inputs by std of the dataset\n",
        "             samplewise_std_normalization=False, # divide each input by its std\n",
        "             zca_whitening=False, # apply ZCA whitening\n",
        "             rotation_range=10, # randomly rotate images in the range (degrees, 0 to 180)\n",
        "             zoom_range = 0.1, # Randomly zoom image\n",
        "             width_shift_range=0.1, # randomly shift images horizontally (fraction of total width)\n",
        "             height_shift_range=0.1, # randomly shift images vertically (fraction of total height)\n",
        "             horizontal_flip=False, # randomly flip images\n",
        "             vertical_flip=False) # randomly flip images\n",
        "\n",
        "datagen.fit(x_train)"
      ],
      "execution_count": 0,
      "outputs": []
    },
    {
      "metadata": {
        "id": "TDEkmsK8MfPF",
        "colab_type": "code",
        "outputId": "567057df-2236-4c1f-c4a9-47fec9be02ec",
        "colab": {
          "base_uri": "https://localhost:8080/",
          "height": 323
        }
      },
      "cell_type": "code",
      "source": [
        "# Define the optimizer\n",
        "optimizer = RMSprop(lr=0.001, rho=0.9, epsilon=1e-08, decay=0.0)\n",
        "\n",
        "# Compile the model\n",
        "print(\"[INFO] compiling model...\")\n",
        "\n",
        "model_cnn2 = ModelImage.build_cnn2(width=img_width, height=img_height, depth=img_channels, classes=num_classes) \n",
        "model_cnn2.compile(loss=\"binary_crossentropy\", optimizer=optimizer, metrics=[\"accuracy\"])\n",
        "\n",
        "print(model_cnn2.summary())"
      ],
      "execution_count": 0,
      "outputs": [
        {
          "output_type": "stream",
          "text": [
            "[INFO] compiling model...\n",
            "_________________________________________________________________\n",
            "Layer (type)                 Output Shape              Param #   \n",
            "=================================================================\n",
            "flatten_3 (Flatten)          (None, 50176)             0         \n",
            "_________________________________________________________________\n",
            "dense_5 (Dense)              (None, 256)               12845312  \n",
            "_________________________________________________________________\n",
            "dropout_3 (Dropout)          (None, 256)               0         \n",
            "_________________________________________________________________\n",
            "dense_6 (Dense)              (None, 2)                 514       \n",
            "=================================================================\n",
            "Total params: 12,845,826\n",
            "Trainable params: 12,845,826\n",
            "Non-trainable params: 0\n",
            "_________________________________________________________________\n",
            "None\n"
          ],
          "name": "stdout"
        }
      ]
    },
    {
      "metadata": {
        "id": "kX-Nva4oMfPX",
        "colab_type": "code",
        "outputId": "137798ff-778f-423d-ee04-e757e2689bec",
        "colab": {
          "base_uri": "https://localhost:8080/",
          "height": 2339
        }
      },
      "cell_type": "code",
      "source": [
        "checkpointer2 = ModelCheckpoint(filepath='model_cnn1_con_aug.hdf5', verbose=1, save_best_only=True)\n",
        "#plot_losses2 =  PlotLosses(plot_interval=1, evaluate_interval=None, x_val=x_test, y_val_categorical=y_test)\n",
        "# Fit the model                       \n",
        "model_cnn2.fit_generator(datagen.flow(x_train,y_train, batch_size=batch_size), epochs = epochs, validation_data = (x_test,y_test), verbose = 2, steps_per_epoch=x_train.shape[0], callbacks=[learning_rate_reduction,checkpointer2]) "
      ],
      "execution_count": 0,
      "outputs": [
        {
          "output_type": "stream",
          "text": [
            "Epoch 1/30\n",
            " - 18s - loss: 0.7177 - acc: 0.4907 - val_loss: 0.6796 - val_acc: 0.5200\n",
            "\n",
            "Epoch 00001: val_loss improved from inf to 0.67959, saving model to model_cnn1_con_aug.hdf5\n",
            "Epoch 2/30\n",
            " - 17s - loss: 0.6735 - acc: 0.5749 - val_loss: 0.6742 - val_acc: 0.6000\n",
            "\n",
            "Epoch 00002: val_loss improved from 0.67959 to 0.67416, saving model to model_cnn1_con_aug.hdf5\n",
            "Epoch 3/30\n",
            " - 17s - loss: 0.6855 - acc: 0.5429 - val_loss: 0.6733 - val_acc: 0.6600\n",
            "\n",
            "Epoch 00003: val_loss improved from 0.67416 to 0.67331, saving model to model_cnn1_con_aug.hdf5\n",
            "Epoch 4/30\n",
            " - 17s - loss: 0.6840 - acc: 0.5576 - val_loss: 0.6676 - val_acc: 0.6400\n",
            "\n",
            "Epoch 00004: val_loss improved from 0.67331 to 0.66759, saving model to model_cnn1_con_aug.hdf5\n",
            "Epoch 5/30\n",
            " - 17s - loss: 0.6598 - acc: 0.6014 - val_loss: 0.6798 - val_acc: 0.5200\n",
            "\n",
            "Epoch 00005: val_loss did not improve from 0.66759\n",
            "Epoch 6/30\n",
            " - 17s - loss: 0.6667 - acc: 0.5997 - val_loss: 0.6501 - val_acc: 0.8800\n",
            "\n",
            "Epoch 00006: val_loss improved from 0.66759 to 0.65008, saving model to model_cnn1_con_aug.hdf5\n",
            "Epoch 7/30\n",
            " - 17s - loss: 0.6522 - acc: 0.6175 - val_loss: 0.6385 - val_acc: 0.4800\n",
            "\n",
            "Epoch 00007: val_loss improved from 0.65008 to 0.63846, saving model to model_cnn1_con_aug.hdf5\n",
            "Epoch 8/30\n",
            " - 17s - loss: 0.6512 - acc: 0.6378 - val_loss: 0.6168 - val_acc: 0.8200\n",
            "\n",
            "Epoch 00008: val_loss improved from 0.63846 to 0.61681, saving model to model_cnn1_con_aug.hdf5\n",
            "Epoch 9/30\n",
            " - 18s - loss: 0.6243 - acc: 0.6775 - val_loss: 0.6052 - val_acc: 0.6600\n",
            "\n",
            "Epoch 00009: ReduceLROnPlateau reducing learning rate to 0.0005000000237487257.\n",
            "\n",
            "Epoch 00009: val_loss improved from 0.61681 to 0.60519, saving model to model_cnn1_con_aug.hdf5\n",
            "Epoch 10/30\n",
            " - 17s - loss: 0.6095 - acc: 0.6541 - val_loss: 0.5907 - val_acc: 0.7000\n",
            "\n",
            "Epoch 00010: val_loss improved from 0.60519 to 0.59067, saving model to model_cnn1_con_aug.hdf5\n",
            "Epoch 11/30\n",
            " - 17s - loss: 0.5951 - acc: 0.7141 - val_loss: 0.5715 - val_acc: 0.8600\n",
            "\n",
            "Epoch 00011: val_loss improved from 0.59067 to 0.57152, saving model to model_cnn1_con_aug.hdf5\n",
            "Epoch 12/30\n",
            " - 18s - loss: 0.5852 - acc: 0.7198 - val_loss: 0.5661 - val_acc: 0.7000\n",
            "\n",
            "Epoch 00012: ReduceLROnPlateau reducing learning rate to 0.0002500000118743628.\n",
            "\n",
            "Epoch 00012: val_loss improved from 0.57152 to 0.56612, saving model to model_cnn1_con_aug.hdf5\n",
            "Epoch 13/30\n",
            " - 17s - loss: 0.5938 - acc: 0.6948 - val_loss: 0.5568 - val_acc: 0.7800\n",
            "\n",
            "Epoch 00013: val_loss improved from 0.56612 to 0.55684, saving model to model_cnn1_con_aug.hdf5\n",
            "Epoch 14/30\n",
            " - 17s - loss: 0.5933 - acc: 0.7434 - val_loss: 0.5529 - val_acc: 0.9200\n",
            "\n",
            "Epoch 00014: val_loss improved from 0.55684 to 0.55288, saving model to model_cnn1_con_aug.hdf5\n",
            "Epoch 15/30\n",
            " - 18s - loss: 0.5909 - acc: 0.7173 - val_loss: 0.5500 - val_acc: 0.9200\n",
            "\n",
            "Epoch 00015: val_loss improved from 0.55288 to 0.55004, saving model to model_cnn1_con_aug.hdf5\n",
            "Epoch 16/30\n",
            " - 17s - loss: 0.5749 - acc: 0.7342 - val_loss: 0.5457 - val_acc: 0.9200\n",
            "\n",
            "Epoch 00016: val_loss improved from 0.55004 to 0.54575, saving model to model_cnn1_con_aug.hdf5\n",
            "Epoch 17/30\n",
            " - 17s - loss: 0.5727 - acc: 0.7351 - val_loss: 0.5371 - val_acc: 0.8800\n",
            "\n",
            "Epoch 00017: ReduceLROnPlateau reducing learning rate to 0.0001250000059371814.\n",
            "\n",
            "Epoch 00017: val_loss improved from 0.54575 to 0.53712, saving model to model_cnn1_con_aug.hdf5\n",
            "Epoch 18/30\n",
            " - 18s - loss: 0.5730 - acc: 0.7442 - val_loss: 0.5366 - val_acc: 0.9200\n",
            "\n",
            "Epoch 00018: val_loss improved from 0.53712 to 0.53664, saving model to model_cnn1_con_aug.hdf5\n",
            "Epoch 19/30\n",
            " - 17s - loss: 0.5604 - acc: 0.7810 - val_loss: 0.5290 - val_acc: 0.9200\n",
            "\n",
            "Epoch 00019: val_loss improved from 0.53664 to 0.52904, saving model to model_cnn1_con_aug.hdf5\n",
            "Epoch 20/30\n",
            " - 17s - loss: 0.5665 - acc: 0.7598 - val_loss: 0.5272 - val_acc: 0.8200\n",
            "\n",
            "Epoch 00020: ReduceLROnPlateau reducing learning rate to 0.0001.\n",
            "\n",
            "Epoch 00020: val_loss improved from 0.52904 to 0.52717, saving model to model_cnn1_con_aug.hdf5\n",
            "Epoch 21/30\n",
            " - 18s - loss: 0.5686 - acc: 0.7550 - val_loss: 0.5261 - val_acc: 0.8800\n",
            "\n",
            "Epoch 00021: val_loss improved from 0.52717 to 0.52614, saving model to model_cnn1_con_aug.hdf5\n",
            "Epoch 22/30\n",
            " - 17s - loss: 0.5713 - acc: 0.7596 - val_loss: 0.5216 - val_acc: 0.9200\n",
            "\n",
            "Epoch 00022: val_loss improved from 0.52614 to 0.52163, saving model to model_cnn1_con_aug.hdf5\n",
            "Epoch 23/30\n",
            " - 17s - loss: 0.5491 - acc: 0.7778 - val_loss: 0.5183 - val_acc: 0.9200\n",
            "\n",
            "Epoch 00023: val_loss improved from 0.52163 to 0.51828, saving model to model_cnn1_con_aug.hdf5\n",
            "Epoch 24/30\n",
            " - 17s - loss: 0.5556 - acc: 0.7588 - val_loss: 0.5165 - val_acc: 0.9200\n",
            "\n",
            "Epoch 00024: val_loss improved from 0.51828 to 0.51652, saving model to model_cnn1_con_aug.hdf5\n",
            "Epoch 25/30\n",
            " - 17s - loss: 0.5604 - acc: 0.7656 - val_loss: 0.5148 - val_acc: 0.9200\n",
            "\n",
            "Epoch 00025: val_loss improved from 0.51652 to 0.51482, saving model to model_cnn1_con_aug.hdf5\n",
            "Epoch 26/30\n",
            " - 17s - loss: 0.5488 - acc: 0.7576 - val_loss: 0.5097 - val_acc: 0.9200\n",
            "\n",
            "Epoch 00026: val_loss improved from 0.51482 to 0.50966, saving model to model_cnn1_con_aug.hdf5\n",
            "Epoch 27/30\n",
            " - 17s - loss: 0.5448 - acc: 0.7532 - val_loss: 0.5081 - val_acc: 0.9200\n",
            "\n",
            "Epoch 00027: val_loss improved from 0.50966 to 0.50810, saving model to model_cnn1_con_aug.hdf5\n",
            "Epoch 28/30\n",
            " - 17s - loss: 0.5515 - acc: 0.7503 - val_loss: 0.5060 - val_acc: 0.9200\n",
            "\n",
            "Epoch 00028: val_loss improved from 0.50810 to 0.50598, saving model to model_cnn1_con_aug.hdf5\n",
            "Epoch 29/30\n",
            " - 17s - loss: 0.5411 - acc: 0.7637 - val_loss: 0.5019 - val_acc: 0.9200\n",
            "\n",
            "Epoch 00029: val_loss improved from 0.50598 to 0.50189, saving model to model_cnn1_con_aug.hdf5\n",
            "Epoch 30/30\n",
            " - 17s - loss: 0.5580 - acc: 0.7628 - val_loss: 0.5012 - val_acc: 0.9200\n",
            "\n",
            "Epoch 00030: val_loss improved from 0.50189 to 0.50117, saving model to model_cnn1_con_aug.hdf5\n"
          ],
          "name": "stdout"
        },
        {
          "output_type": "execute_result",
          "data": {
            "text/plain": [
              "<keras.callbacks.History at 0x7fb1237ede80>"
            ]
          },
          "metadata": {
            "tags": []
          },
          "execution_count": 24
        }
      ]
    },
    {
      "metadata": {
        "id": "qZ_ezaaSMfPo",
        "colab_type": "code",
        "outputId": "24991e7b-a2e3-4b69-8db7-88bbf0c126ee",
        "colab": {
          "base_uri": "https://localhost:8080/",
          "height": 433
        }
      },
      "cell_type": "code",
      "source": [
        "# Look at confusion matrix\n",
        "import matplotlib.pyplot as plt\n",
        "def plot_confusion_matrix(cm, classes,normalize=False,title='Confusion matrix',cmap=plt.cm.Blues, modelo=None):\n",
        "\n",
        "    \"\"\"\n",
        "    This function prints and plots the confusion matrix.\n",
        "    Normalization can be applied by setting `normalize=True`.\n",
        "    \"\"\"\n",
        "    plt.imshow(cm, interpolation='nearest', cmap=cmap)\n",
        "    plt.title(title)\n",
        "    plt.colorbar()\n",
        "    tick_marks = np.arange(len(classes))\n",
        "    plt.xticks(tick_marks, classes, rotation=45)\n",
        "    plt.yticks(tick_marks, classes)\n",
        "    if normalize:\n",
        "       cm = cm.astype('float') / cm.sum(axis=1)[:, np.newaxis]\n",
        "    \n",
        "    thresh = cm.max() / 2.\n",
        "    for i, j in itertools.product(range(cm.shape[0]), range(cm.shape[1])):\n",
        "       plt.text(j, i, cm[i, j],\n",
        "            horizontalalignment=\"center\",\n",
        "            color=\"white\" if cm[i, j] > thresh else \"black\")\n",
        "\n",
        "    plt.tight_layout()\n",
        "    plt.ylabel('True label')\n",
        "    plt.xlabel('Predicted label')\n",
        "    \n",
        "print(\"MODELO 1 sin aumentacion\")  \n",
        "modelo=model_cnn1   \n",
        "# Predict the values from the validation dataset\n",
        "Y_pred = modelo.predict(x_test)\n",
        "# Convert predictions classes to one hot vectors\n",
        "Y_pred_classes = np.argmax(Y_pred,axis = 1)\n",
        "\n",
        "# Convert validation observations to one hot vectors\n",
        "Y_true = np.argmax(y_test,axis = 1)\n",
        "# compute the confusion matrix\n",
        "confusion_mtx = confusion_matrix(Y_true, Y_pred_classes)\n",
        "\n",
        " \n",
        "# plot the confusion matrix\n",
        "plot_confusion_matrix(confusion_mtx, classes = range(2), modelo=model_cnn1)\n"
      ],
      "execution_count": 0,
      "outputs": [
        {
          "output_type": "stream",
          "text": [
            "MODELO 1 sin aumentacion\n"
          ],
          "name": "stdout"
        },
        {
          "output_type": "display_data",
          "data": {
            "image/png": "[encoded data removed]",
            "text/plain": [
              "<Figure size 576x396 with 2 Axes>"
            ]
          },
          "metadata": {
            "tags": []
          }
        }
      ]
    },
    {
      "metadata": {
        "id": "ppHf03YSMfPw",
        "colab_type": "code",
        "outputId": "66bde4e7-7090-4acd-c274-48bac45a362d",
        "colab": {
          "base_uri": "https://localhost:8080/",
          "height": 433
        }
      },
      "cell_type": "code",
      "source": [
        "print(\"MODELO 2 con aumentacion \") \n",
        "modelo=model_cnn2 \n",
        "# Predict the values from the validation dataset\n",
        "Y_pred = modelo.predict(x_test)\n",
        "# Convert predictions classes to one hot vectors\n",
        "Y_pred_classes = np.argmax(Y_pred,axis = 1)\n",
        "\n",
        "# Convert validation observations to one hot vectors\n",
        "Y_true = np.argmax(y_test,axis = 1)\n",
        "# compute the confusion matrix\n",
        "confusion_mtx = confusion_matrix(Y_true, Y_pred_classes)\n",
        "\n",
        "plot_confusion_matrix(confusion_mtx, classes = range(2), modelo=model_cnn2)"
      ],
      "execution_count": 0,
      "outputs": [
        {
          "output_type": "stream",
          "text": [
            "MODELO 2 con aumentacion \n"
          ],
          "name": "stdout"
        },
        {
          "output_type": "display_data",
          "data": {
            "image/png": "[encoded data removed]",
            "text/plain": [
              "<Figure size 576x396 with 2 Axes>"
            ]
          },
          "metadata": {
            "tags": []
          }
        }
      ]
    },
    {
      "metadata": {
        "id": "gXSAnHhrMfP7",
        "colab_type": "code",
        "outputId": "0fac4716-d139-4635-a1f5-f659665220ae",
        "colab": {
          "base_uri": "https://localhost:8080/",
          "height": 53
        }
      },
      "cell_type": "code",
      "source": [
        "# Modelo 1 sin aumentacion \n",
        "# Cargo los valores del modelo\n",
        "model_cnn2.load_weights('model_cnn1_sin_aug.hdf5')\n",
        "score1 = model_cnn2.evaluate(x_test, y_test, verbose=0)\n",
        "print(\"loss: \", score1[0])\n",
        "print(\"accuracy: \", score1[1])"
      ],
      "execution_count": 0,
      "outputs": [
        {
          "output_type": "stream",
          "text": [
            "loss:  0.612320601940155\n",
            "accuracy:  0.7599999904632568\n"
          ],
          "name": "stdout"
        }
      ]
    },
    {
      "metadata": {
        "id": "063hHeLXMfQI",
        "colab_type": "code",
        "outputId": "bebb5bac-90cd-4e80-8f93-711de9681d7c",
        "colab": {
          "base_uri": "https://localhost:8080/",
          "height": 53
        }
      },
      "cell_type": "code",
      "source": [
        "# Modelo 1 con aumentacion \n",
        "model_cnn2.load_weights('model_cnn1_con_aug.hdf5')\n",
        "score2 = model_cnn2.evaluate(x_test, y_test, verbose=0)\n",
        "print(\"loss: \", score2[0])\n",
        "print(\"accuracy: \", score2[1])"
      ],
      "execution_count": 0,
      "outputs": [
        {
          "output_type": "stream",
          "text": [
            "loss:  0.5011717677116394\n",
            "accuracy:  0.9200000166893005\n"
          ],
          "name": "stdout"
        }
      ]
    },
    {
      "metadata": {
        "id": "k6D3BI5CMfQT",
        "colab_type": "code",
        "colab": {}
      },
      "cell_type": "code",
      "source": [
        ""
      ],
      "execution_count": 0,
      "outputs": []
    }
  ]
}